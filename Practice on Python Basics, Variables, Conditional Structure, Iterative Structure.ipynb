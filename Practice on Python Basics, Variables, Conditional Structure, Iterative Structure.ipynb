{
 "cells": [
  {
   "cell_type": "code",
   "execution_count": 40,
   "metadata": {},
   "outputs": [
    {
     "name": "stdout",
     "output_type": "stream",
     "text": [
      "Enter the length : 77\n",
      "Enter the width : 44\n",
      "The area of the rectangle is: {area}\n"
     ]
    }
   ],
   "source": [
    "#question 1\n",
    "length=int(input(\"Enter the length : \"))\n",
    "width=int(input(\"Enter the width : \"))\n",
    "area=length*width\n",
    "print(\"The area of the rectangle is: {area}\")\n"
   ]
  },
  {
   "cell_type": "code",
   "execution_count": 7,
   "metadata": {},
   "outputs": [
    {
     "name": "stdout",
     "output_type": "stream",
     "text": [
      "Enter marks obtained in Math: 22\n",
      "Enter marks obtained in Science: 33\n",
      "Enter marks obtained in English: 44\n",
      "Enter marks obtained in Urdu: 5\n",
      "The percentage of student marks is: 26.0%\n"
     ]
    }
   ],
   "source": [
    "#question 2\n",
    "math = int(input(\"Enter marks obtained in Math: \"))\n",
    "science = int(input(\"Enter marks obtained in Science: \"))\n",
    "english = int(input(\"Enter marks obtained in English: \"))\n",
    "urdu = int (input(\"Enter marks obtained in Urdu: \"))\n",
    "obtained_marks = math + science + english + urdu\n",
    "percentage = (obtained_marks / 400 ) * 100\n",
    "print(\"The percentage of student marks is: {percentage:}%\")\n"
   ]
  },
  {
   "cell_type": "code",
   "execution_count": 10,
   "metadata": {},
   "outputs": [
    {
     "name": "stdout",
     "output_type": "stream",
     "text": [
      "Enter the principal amount: 334556\n",
      "Enter the number of years: 15\n",
      "Enter the interest rate (%): 2.5\n",
      "The interest on the bank deposit is: 125458.5%\n"
     ]
    }
   ],
   "source": [
    "#question 3\n",
    "totalamount = int(input(\"Enter the principal amount: \"))\n",
    "years = int(input(\"Enter the number of years: \"))\n",
    "interest = float(input(\"Enter the interest rate (%): \"))\n",
    "\n",
    "interest = (totalamount*years*interest) / 100\n",
    "\n",
    "print(\"The interest on the bank deposit is: {interest:}%\")\n"
   ]
  },
  {
   "cell_type": "code",
   "execution_count": 11,
   "metadata": {},
   "outputs": [
    {
     "name": "stdout",
     "output_type": "stream",
     "text": [
      "Enter temperature in Fahrenheit: 44\n",
      "The temperature in Celsius is: 6.67 \n"
     ]
    }
   ],
   "source": [
    "#question 4\n",
    "fahrenheit = int(input(\"Enter temperature in Fahrenheit: \"))\n",
    "celsius = (5/9) *(fahrenheit - 32)\n",
    "print(\"The temperature in Celsius is: {celsius: } \")\n"
   ]
  },
  {
   "cell_type": "code",
   "execution_count": 12,
   "metadata": {},
   "outputs": [
    {
     "name": "stdout",
     "output_type": "stream",
     "text": [
      "Enter the length of the rectangle: 56\n",
      "Enter the width of the rectangle: 45\n",
      "The perimeter of the rectangle is: 202.0\n"
     ]
    }
   ],
   "source": [
    "#question 5\n",
    "length = int(input(\"Enter the length of the rectangle: \"))\n",
    "width = float(input(\"Enter the width of the rectangle: \"))\n",
    "perimeter = 2*(length + width)\n",
    "print(\"The perimeter of the rectangle is: {perimeter}\")\n"
   ]
  },
  {
   "cell_type": "code",
   "execution_count": 13,
   "metadata": {},
   "outputs": [
    {
     "name": "stdout",
     "output_type": "stream",
     "text": [
      "The discounted price of one shirt is: 495.0\n"
     ]
    }
   ],
   "source": [
    "#question6\n",
    "originalprice = 550\n",
    "discountpercentage = 10\n",
    "discount = (originalprice * discountpercentage) / 100\n",
    "discounted_price = originalprice - discount\n",
    "print(\"The discounted price of one shirt is:\", discounted_price)\n"
   ]
  },
  {
   "cell_type": "code",
   "execution_count": 20,
   "metadata": {},
   "outputs": [
    {
     "name": "stdout",
     "output_type": "stream",
     "text": [
      "Enter the retail price of the item: 3323\n",
      "Enter the sales tax rate (%): 3\n",
      "Sales tax: 99.69\n",
      "Total sale: 3422.69\n"
     ]
    }
   ],
   "source": [
    "#question7\n",
    "retailprice = int(input(\"Enter the retail price of the item: \"))\n",
    "salestax_rate = int(input(\"Enter the sales tax rate (%): \"))\n",
    "salestax = (retailprice * salestax_rate) / 100\n",
    "total_sale = retailprice + salestax\n",
    "print(\"Sales tax: {salestax:}\")\n",
    "print(\"Total sale: {total_sale:}\")\n"
   ]
  },
  {
   "cell_type": "code",
   "execution_count": 22,
   "metadata": {},
   "outputs": [
    {
     "name": "stdout",
     "output_type": "stream",
     "text": [
      "The total bill in PKR is: 106050\n"
     ]
    }
   ],
   "source": [
    "#question8\n",
    "keyboardpriceusd = 100\n",
    "mousepriceusd = 50\n",
    "usdrate = 303\n",
    "\n",
    "totalcost_usd = (2*keyboardpriceusd) + (3*mousepriceusd)\n",
    "\n",
    "totalcost_pkr = totalcost_usd * usdrate\n",
    "\n",
    "print(\"The total bill in PKR is: {totalcost_pkr:}\")\n",
    "\n",
    "\n",
    "\n"
   ]
  },
  {
   "cell_type": "code",
   "execution_count": 24,
   "metadata": {},
   "outputs": [
    {
     "name": "stdout",
     "output_type": "stream",
     "text": [
      "Enter the starting balance: 67000\n",
      "Enter the total amount of deposits: 8200\n",
      "Enter the total amount of withdrawals: 10000\n",
      "The current balance in the savings account is: 65200\n"
     ]
    }
   ],
   "source": [
    "#question9\n",
    "startingbalance = int(input(\"Enter the starting balance: \"))\n",
    "totaldeposits = int(input(\"Enter the total amount of deposits: \"))\n",
    "balancewithdrawals = int(input(\"Enter the total amount of withdrawals: \"))\n",
    "\n",
    "currentbalance = startingbalance + totaldeposits - balancewithdrawals\n",
    "\n",
    "print(\"The current balance in the savings account is: {currentbalance:}\")\n"
   ]
  },
  {
   "cell_type": "code",
   "execution_count": 30,
   "metadata": {},
   "outputs": [
    {
     "name": "stdout",
     "output_type": "stream",
     "text": [
      "Enter your age: 18\n",
      "You are eligible to cast your vote.\n"
     ]
    }
   ],
   "source": [
    "#question10\n",
    "age = int(input(\"Enter your age: \"))\n",
    "if age >= 18:\n",
    "    print(\"You are eligible to cast your vote.\")\n",
    "else:\n",
    "    print(\"You are not eligible to cast your vote.\")\n"
   ]
  },
  {
   "cell_type": "code",
   "execution_count": 27,
   "metadata": {},
   "outputs": [
    {
     "name": "stdout",
     "output_type": "stream",
     "text": [
      "Enter the number of electricity units consumed: 879\n",
      "Total electricity bill (including surcharge) is: 1396.2\n"
     ]
    }
   ],
   "source": [
    "#question11\n",
    "units = float (input(\"Enter the number of electricity units consumed: \"))\n",
    "totalbill = 0.0\n",
    "surcharge = 0.0\n",
    "if units <= 50:\n",
    "    totalbill = units*0.50\n",
    "elif units <= 150:\n",
    "    totalbill = 50*0.50+(units - 50)*0.75\n",
    "elif units <= 250:\n",
    "    totalbill = 50*0.50+100*0.75+(units - 150)*1.20\n",
    "else:\n",
    "    totalbill = 50*0.50+100*0.75+100*1.20+(units - 250)*1.50\n",
    "surcharge = totalbill*0.20\n",
    "totalbill += surcharge\n",
    "print(\"Total electricity bill (including surcharge) is: {totalbill :}\")\n"
   ]
  },
  {
   "cell_type": "code",
   "execution_count": 41,
   "metadata": {},
   "outputs": [
    {
     "name": "stdout",
     "output_type": "stream",
     "text": [
      "Enter the number of sides: 0\n",
      "Enter the radius: 23\n",
      "Area of the circle: 1661.90111\n"
     ]
    }
   ],
   "source": [
    "#question12\n",
    "# number of sides\n",
    "numberofsides = int(input(\"Enter the number of sides: \"))\n",
    "if numberofsides == 0:\n",
    "    # area of circle\n",
    "    radius = float(input(\"Enter the radius: \"))\n",
    "    area = 3.14159 * radius * radius\n",
    "    print(f\"Area of the circle: {area:}\")\n",
    "elif numberofsides == 3:\n",
    "    # area of triangle\n",
    "    base = float(input(\"Enter the base length: \"))\n",
    "    height = float(input(\"Enter the height length: \"))\n",
    "    area = 0.5 * base * height\n",
    "    print(f\"Area of the triangle: {area:}\")\n",
    "elif numberofsides == 4:\n",
    "    # area of rectangle\n",
    "    length = float(input(\"Enter the length: \"))\n",
    "    width = float(input(\"Enter the width: \"))\n",
    "    area = length * width\n",
    "    print(f\"Area of the rectangle: {area:}\")\n",
    "else:\n",
    "    print(\"Invalid number of sides.please enter 0,3, or 4\")\n"
   ]
  },
  {
   "cell_type": "code",
   "execution_count": 38,
   "metadata": {},
   "outputs": [
    {
     "name": "stdout",
     "output_type": "stream",
     "text": [
      "Enter a number: 6\n",
      "6 is a perfect number.\n"
     ]
    }
   ],
   "source": [
    "#question13\n",
    "def isperfectnumber(number):\n",
    "    if number <= 0:\n",
    "        return False\n",
    "    divisorssum = 0\n",
    "    for i in range(1, number):\n",
    "        if number % i == 0:\n",
    "            divisorssum += i\n",
    "\n",
    "    return divisorssum == number\n",
    "\n",
    "# Input from the user\n",
    "num = int(input(\"Enter a number: \"))\n",
    "\n",
    "if isperfectnumber(num):\n",
    "    print(num, \"is a perfect number.\")\n",
    "else:\n",
    "    print(num, \"is not a perfect number.\")\n",
    "\n"
   ]
  },
  {
   "cell_type": "code",
   "execution_count": 42,
   "metadata": {},
   "outputs": [
    {
     "name": "stdout",
     "output_type": "stream",
     "text": [
      "Enter the number of terms 2\n",
      "1 , 4 , \n",
      "Sum of the first 2 square natural numbers is: 5\n"
     ]
    }
   ],
   "source": [
    "#question 15\n",
    "\n",
    "n=int(input(\"Enter the number of terms \"))\n",
    "sumS= 0\n",
    "for i in range(1, n + 1):\n",
    "    square = i ** 2\n",
    "    sumS += square\n",
    "    print(square, end=\" , \")\n",
    "\n",
    "print(\"\\nSum of the first\", n, \"square natural numbers is:\", sumS)\n"
   ]
  },
  {
   "cell_type": "markdown",
   "metadata": {},
   "source": [
    "\n",
    "start = int(input(\"Enter the start range: \"))\n",
    "end = int(input(\"Enter the ending range: \"))\n",
    "\n",
    "for num in range(start, end + 1):\n",
    "    sumD = 0\n",
    "   \n",
    "    for i in range(1, num):\n",
    "        if num % i == 0:\n",
    "            sumD += i\n",
    "           \n",
    "    if sumD == num:\n",
    "        print(num,\" is a perfect number.\")\n",
    "\n",
    "start = start + 1\n",
    "\n",
    "\n",
    "\n",
    "\n",
    "num=int (input(\"enter the num\"))\n",
    "if (num <= 0):\n",
    "        print(\"not perfect\")\n",
    "   \n",
    "sumD = 0\n",
    "   \n",
    "for i in range(1, num):\n",
    "        if num % i == 0:\n",
    "            sumD += i\n",
    "           \n",
    "if (sumD==num):\n",
    "    print(\"number is a perfect number.\")\n",
    "else:\n",
    "    print(\"number is not a perfect number\")"
   ]
  },
  {
   "cell_type": "code",
   "execution_count": null,
   "metadata": {},
   "outputs": [],
   "source": []
  },
  {
   "cell_type": "code",
   "execution_count": null,
   "metadata": {},
   "outputs": [],
   "source": []
  }
 ],
 "metadata": {
  "kernelspec": {
   "display_name": "Python 3 (ipykernel)",
   "language": "python",
   "name": "python3"
  },
  "language_info": {
   "codemirror_mode": {
    "name": "ipython",
    "version": 3
   },
   "file_extension": ".py",
   "mimetype": "text/x-python",
   "name": "python",
   "nbconvert_exporter": "python",
   "pygments_lexer": "ipython3",
   "version": "3.11.4"
  }
 },
 "nbformat": 4,
 "nbformat_minor": 4
}
